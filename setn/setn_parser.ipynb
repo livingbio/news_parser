{
 "cells": [
  {
   "cell_type": "code",
   "execution_count": 1,
   "metadata": {
    "collapsed": true
   },
   "outputs": [],
   "source": [
    "import datetime\n",
    "import re\n",
    "\n",
    "from bs4 import BeautifulSoup\n",
    "import requests"
   ]
  },
  {
   "cell_type": "code",
   "execution_count": 2,
   "metadata": {
    "collapsed": false
   },
   "outputs": [],
   "source": [
    "def get_category_urls(category_url,start_page='',limit=None):\n",
    "    result = []; count = 0\n",
    "    page_url = category_url+'&p='+str(start_page)\n",
    "    while True:\n",
    "        print(page_url)\n",
    "        soup = BeautifulSoup(requests.get(page_url).text,'html.parser')\n",
    "        urls = ['http://www.setn.com'+soup.select(\"ol a\")[i].attrs['href'] for i in range(len(soup.select(\"ol a\")))]\n",
    "        result.extend(urls)\n",
    "        next_link = soup.find_all(\"div\", attrs={'class' : 'pager'})[0].find_all('a')[-1]['href']\n",
    "        if page_url=='http://www.setn.com'+next_link or len(urls)==0:\n",
    "            break\n",
    "            \n",
    "        count += 1\n",
    "        if limit!=None and count >= limit:\n",
    "            break\n",
    "            \n",
    "        page_url = 'http://www.setn.com'+next_link\n",
    "    return result"
   ]
  },
  {
   "cell_type": "code",
   "execution_count": 3,
   "metadata": {
    "collapsed": false
   },
   "outputs": [],
   "source": [
    "def parser_page(url):\n",
    "    \"\"\"\n",
    "    parser page method \n",
    "    主要用於抓取新聞detail頁面資訊\n",
    "\n",
    "    page_data = parser_page(news detail url)\n",
    "    \"\"\"\n",
    "    soup = BeautifulSoup(requests.get(url).text,'html.parser')\n",
    "    search = lambda typ,seed: soup.find_all(\"meta\", attrs={typ : seed})[0].attrs['content']\n",
    "    inputs = [(\"property\",\"og:url\"),(\"property\",\"og:title\"),(\"name\",\"pubdate\"),(\"name\",\"Keywords\"),(\"name\",\"section\")]\n",
    "    \n",
    "    parse = [search(typ,seed) for typ,seed in inputs]\n",
    "    post_time = datetime.datetime.strptime(parse[2], '%Y-%m-%dT%H:%M:%S')\n",
    "    \n",
    "    article = soup.select(\"article div > p\")    \n",
    "    content = []; journalist = None\n",
    "    for i in range(len(article)):\n",
    "        if len(article[i].attrs) == 0 and not journalist:\n",
    "            journalist = article[i].text\n",
    "        else:\n",
    "            content.append(article[i].text)   \n",
    "    content = \"\".join(content)\n",
    "    \n",
    "    fb_url = 'https://graph.facebook.com/fql?q=SELECT%20like_count,%20total_count,%20share_count,'+ \\\n",
    "              '%20click_count,%20comment_count%20FROM%20link_stat%20WHERE%20url%20=%20%22'+parse[0]+'%22'\n",
    "\n",
    "    res_data = requests.get(fb_url).json()['data'][0]\n",
    "    fb_like = res_data['like_count']\n",
    "    fb_share = res_data['share_count']\n",
    "    fb_com = res_data['comment_count']\n",
    "    \n",
    "    ######facebook comments#######   \n",
    "    tree = {}\n",
    "    fb_com_url = 'http://graph.facebook.com/comments?id=' + parse[0]+ \\\n",
    "                 '&limit=100&filter=stream&fields=parent.fields%28id%29,message,from,like_count,created_time,parent'\n",
    "    fb_data = requests.get(fb_com_url).json()\n",
    "    while True:\n",
    "        if len(fb_data[\"data\"])==0:\n",
    "            break\n",
    "        for comment in fb_data['data']:\n",
    "            one_com = {}\n",
    "            one_com[\"post_time\"] = datetime.datetime.strptime(comment['created_time'][:-5], '%Y-%m-%dT%H:%M:%S')\n",
    "            one_com[\"actor\"] = comment['from']['name']\n",
    "            one_com[\"like\"] = comment['like_count']\n",
    "            one_com[\"content\"] = comment['message']\n",
    "            one_com[\"source_type\"] = \"facebook\"\n",
    "            one_com[\"dislike\"] = None\n",
    "            if 'parent' in comment:\n",
    "                tree[comment['parent']['id']][\"sub_comments\"].append(one_com)\n",
    "            else:\n",
    "                one_com[\"sub_comments\"] = []\n",
    "                tree[comment['id']] = one_com\n",
    "\n",
    "        fb_next_url = fb_com_url+'&after='+fb_data['paging']['cursors']['after']\n",
    "        fb_data = requests.get(fb_next_url).json()\n",
    "    ######facebook comments#######        \n",
    "    \n",
    "    return {\n",
    "        \"url\": parse[0],\n",
    "        \"source_press\": None,\n",
    "        \"title\": parse[1],\n",
    "        \"post_time\": post_time,\n",
    "        \"journalist\": journalist,\n",
    "        \"content\": content,\n",
    "        \"compare\": None,\n",
    "        \"keyword\": parse[3].split(','),\n",
    "        \"fb_like\": fb_like,\n",
    "        \"fb_share\": fb_share,\n",
    "        \"fb_comment_count\": fb_com,\n",
    "        \"category\": parse[4].split(','),\n",
    "        \"comment\": [tree[key] for key in sorted(tree.keys())]\n",
    "    }"
   ]
  },
  {
   "cell_type": "code",
   "execution_count": 51,
   "metadata": {
    "collapsed": false
   },
   "outputs": [],
   "source": [
    "collect = {}\n",
    "def collect_resp(url):\n",
    "    collect[url] = old_req(url)\n",
    "    return collect[url]\n",
    "\n",
    "old_req = requests.get\n",
    "requests.get = collect_resp\n",
    "#requests.get = old_req"
   ]
  },
  {
   "cell_type": "code",
   "execution_count": 54,
   "metadata": {
    "collapsed": false,
    "scrolled": true
   },
   "outputs": [
    {
     "name": "stdout",
     "output_type": "stream",
     "text": [
      "http://www.setn.com/ViewAll.aspx?PageGroupID=2&p=23\n",
      "http://www.setn.com/ViewAll.aspx?pagegroupid=2&p=24\n",
      "http://www.setn.com/ViewAll.aspx?pagegroupid=2&p=25\n",
      "http://www.setn.com/ViewAll.aspx?pagegroupid=2&p=26\n",
      "http://www.setn.com/ViewAll.aspx?pagegroupid=2&p=27\n",
      "http://www.setn.com/ViewAll.aspx?PageGroupID=4&p=111\n",
      "http://www.setn.com/ViewAll.aspx?pagegroupid=4&p=112\n",
      "http://www.setn.com/ViewAll.aspx?pagegroupid=4&p=113\n",
      "http://www.setn.com/ViewAll.aspx?pagegroupid=4&p=114\n",
      "http://www.setn.com/ViewAll.aspx?PageGroupID=5&p=71\n",
      "http://www.setn.com/ViewAll.aspx?pagegroupid=5&p=72\n",
      "http://www.setn.com/ViewAll.aspx?pagegroupid=5&p=73\n",
      "http://www.setn.com/ViewAll.aspx?pagegroupid=5&p=74\n",
      "http://www.setn.com/ViewAll.aspx?PageGroupID=6&p=163\n",
      "http://www.setn.com/ViewAll.aspx?pagegroupid=6&p=164\n",
      "http://www.setn.com/ViewAll.aspx?pagegroupid=6&p=165\n",
      "http://www.setn.com/ViewAll.aspx?pagegroupid=6&p=166\n",
      "http://www.setn.com/ViewAll.aspx?PageGroupID=7&p=7\n",
      "http://www.setn.com/ViewAll.aspx?pagegroupid=7&p=8\n",
      "http://www.setn.com/ViewAll.aspx?pagegroupid=7&p=9\n",
      "http://www.setn.com/ViewAll.aspx?pagegroupid=7&p=10\n",
      "http://www.setn.com/ViewAll.aspx?pagegroupid=7&p=11\n",
      "http://www.setn.com/ViewAll.aspx?PageGroupID=8&p=119\n",
      "http://www.setn.com/ViewAll.aspx?pagegroupid=8&p=120\n",
      "http://www.setn.com/ViewAll.aspx?pagegroupid=8&p=121\n",
      "http://www.setn.com/ViewAll.aspx?pagegroupid=8&p=122\n",
      "http://www.setn.com/ViewAll.aspx?pagegroupid=8&p=123\n",
      "http://www.setn.com/ViewAll.aspx?pagegroupid=8&p=124\n",
      "http://www.setn.com/ViewAll.aspx?PageGroupID=9&p=27\n",
      "http://www.setn.com/ViewAll.aspx?pagegroupid=9&p=28\n",
      "http://www.setn.com/ViewAll.aspx?pagegroupid=9&p=29\n",
      "http://www.setn.com/ViewAll.aspx?pagegroupid=9&p=30\n",
      "http://www.setn.com/ViewAll.aspx?pagegroupid=9&p=31\n",
      "http://www.setn.com/ViewAll.aspx?pagegroupid=9&p=32\n",
      "http://www.setn.com/ViewAll.aspx?pagegroupid=9&p=33\n",
      "http://www.setn.com/ViewAll.aspx?PageGroupID=15&p=7\n",
      "http://www.setn.com/ViewAll.aspx?pagegroupid=15&p=8\n",
      "http://www.setn.com/ViewAll.aspx?pagegroupid=15&p=9\n",
      "http://www.setn.com/ViewAll.aspx?pagegroupid=15&p=10\n",
      "http://www.setn.com/ViewAll.aspx?pagegroupid=15&p=11\n",
      "http://www.setn.com/ViewAll.aspx?pagegroupid=15&p=12\n",
      "http://www.setn.com/ViewAll.aspx?PageGroupID=17&p=19\n",
      "http://www.setn.com/ViewAll.aspx?pagegroupid=17&p=20\n",
      "http://www.setn.com/ViewAll.aspx?pagegroupid=17&p=21\n",
      "http://www.setn.com/ViewAll.aspx?pagegroupid=17&p=22\n",
      "http://www.setn.com/ViewAll.aspx?PageGroupID=18&p=23\n",
      "http://www.setn.com/ViewAll.aspx?pagegroupid=18&p=24\n",
      "http://www.setn.com/ViewAll.aspx?pagegroupid=18&p=25\n",
      "http://www.setn.com/ViewAll.aspx?PageGroupID=19&p=3\n",
      "http://www.setn.com/ViewAll.aspx?pagegroupid=19&p=4\n",
      "http://www.setn.com/ViewAll.aspx?pagegroupid=19&p=5\n",
      "http://www.setn.com/ViewAll.aspx?pagegroupid=19&p=6\n",
      "http://www.setn.com/ViewAll.aspx?pagegroupid=19&p=7\n",
      "http://www.setn.com/ViewAll.aspx?PageGroupID=31&p=3\n",
      "http://www.setn.com/ViewAll.aspx?pagegroupid=31&p=4\n",
      "http://www.setn.com/ViewAll.aspx?pagegroupid=31&p=5\n",
      "http://www.setn.com/ViewAll.aspx?pagegroupid=31&p=6\n",
      "http://www.setn.com/ViewAll.aspx?PageGroupID=34&p=35\n",
      "http://www.setn.com/ViewAll.aspx?pagegroupid=34&p=36\n",
      "http://www.setn.com/ViewAll.aspx?pagegroupid=34&p=37\n",
      "http://www.setn.com/ViewAll.aspx?pagegroupid=34&p=38\n",
      "http://www.setn.com/ViewAll.aspx?pagegroupid=34&p=39\n",
      "http://www.setn.com/ViewAll.aspx?PageGroupID=41&p=63\n",
      "http://www.setn.com/ViewAll.aspx?pagegroupid=41&p=64\n",
      "http://www.setn.com/ViewAll.aspx?pagegroupid=41&p=65\n",
      "http://www.setn.com/ViewAll.aspx?pagegroupid=41&p=66\n",
      "http://www.setn.com/ViewAll.aspx?pagegroupid=41&p=67\n",
      "http://www.setn.com/ViewAll.aspx?PageGroupID=42&p=11\n",
      "http://www.setn.com/ViewAll.aspx?pagegroupid=42&p=12\n",
      "http://www.setn.com/ViewAll.aspx?pagegroupid=42&p=13\n",
      "http://www.setn.com/ViewAll.aspx?pagegroupid=42&p=14\n",
      "http://www.setn.com/ViewAll.aspx?pagegroupid=42&p=15\n",
      "http://www.setn.com/ViewAll.aspx?pagegroupid=42&p=16\n"
     ]
    }
   ],
   "source": [
    "def find_start_url(category_url, min_step = 3, init = 32):\n",
    "    step = init; now = 1+int(init/2)\n",
    "    page_url = category_url+'&p='+str(now)\n",
    "    while True:\n",
    "        soup = BeautifulSoup(requests.get(page_url).text,'html.parser')\n",
    "        num_urls = len(soup.select(\"ol a\"))\n",
    "        if step/2 <= min_step:\n",
    "            break\n",
    "        if num_urls==0:\n",
    "            step = int(step/2)\n",
    "            now -= step           \n",
    "        else:\n",
    "            step = int(step/2) if step != init else init\n",
    "            now += step \n",
    "        page_url = category_url+'&p='+str(now)\n",
    "    \n",
    "    ans = now-step-2 if num_urls==0 else now-2\n",
    "    return 1 if ans < 1 else ans\n",
    "\n",
    "N = 40\n",
    "cate_urls = {}\n",
    "group_id = [2,4,5,6,7,8,9,15,17,18,19,31,34,41,42]\n",
    "for c in group_id:\n",
    "    url = 'http://www.setn.com/ViewAll.aspx?PageGroupID='+str(c)\n",
    "    cate_urls[c] = get_category_urls(url,find_start_url(url))[-N:]"
   ]
  },
  {
   "cell_type": "code",
   "execution_count": 66,
   "metadata": {
    "collapsed": false
   },
   "outputs": [],
   "source": [
    "result = {}\n",
    "for g in group_id:\n",
    "    result[g] = [parser_page(page_url) for page_url in cate_urls[g]]\n",
    "       "
   ]
  },
  {
   "cell_type": "code",
   "execution_count": 81,
   "metadata": {
    "collapsed": false
   },
   "outputs": [],
   "source": [
    "import pickle\n",
    "\n",
    "with open('target.pickle', 'wb') as f:\n",
    "    pickle.dump((cate_urls,result), f, pickle.HIGHEST_PROTOCOL)"
   ]
  },
  {
   "cell_type": "code",
   "execution_count": 82,
   "metadata": {
    "collapsed": false,
    "scrolled": true
   },
   "outputs": [],
   "source": [
    "with open('target.pickle', 'rb') as f:\n",
    "    data = pickle.load(f)"
   ]
  },
  {
   "cell_type": "code",
   "execution_count": 112,
   "metadata": {
    "collapsed": false
   },
   "outputs": [],
   "source": [
    "with open('resps.pickle', 'wb') as f:\n",
    "    pickle.dump(collect, f, pickle.HIGHEST_PROTOCOL)"
   ]
  },
  {
   "cell_type": "code",
   "execution_count": 7,
   "metadata": {
    "collapsed": false,
    "scrolled": true
   },
   "outputs": [],
   "source": [
    "#Facebook comment example\n",
    "example = 'http://www.setn.com/News.aspx?NewsID=117306&PageGroupID=6&ProjectID=987'\n",
    "tree = {}\n",
    "fb_com_url = 'http://graph.facebook.com/comments?id=http://www.setn.com/News.aspx?NewsID='+ \\\n",
    "              re.findall('NewsID=([0-9]+)',example)[0]+ \\\n",
    "             '&limit=100&filter=stream&fields=parent.fields%28id%29,message,from,like_count,created_time,parent'\n",
    "\n",
    "\n",
    "fb_data = requests.get(fb_com_url).json()\n",
    "while True:\n",
    "    if len(fb_data[\"data\"])==0:\n",
    "        break\n",
    "    for comment in fb_data['data']:\n",
    "        one_com = {}\n",
    "        one_com[\"post_time\"] = datetime.datetime(*map(lambda x: int(x),re.findall('[0-9]+',comment['created_time'][:-5])))\n",
    "        one_com[\"actor\"] = comment['from']['name']\n",
    "        one_com[\"like\"] = comment['like_count']\n",
    "        one_com[\"content\"] = comment['message']\n",
    "        one_com[\"source_type\"] = \"facebook\"\n",
    "        one_com[\"dislike\"] = None\n",
    "        if 'parent' in comment:\n",
    "            tree[comment['parent']['id']][\"sub_comments\"].append(one_com)\n",
    "        else:\n",
    "            one_com[\"sub_comments\"] = []\n",
    "            tree[comment['id']] = one_com\n",
    "    \n",
    "    fb_next_url = fb_com_url+'&after='+fb_data['paging']['cursors']['after']\n",
    "    fb_data = requests.get(fb_next_url).json()\n"
   ]
  },
  {
   "cell_type": "code",
   "execution_count": null,
   "metadata": {
    "collapsed": false,
    "scrolled": true
   },
   "outputs": [],
   "source": [
    "import pprint\n",
    "pprint.pprint(tree)"
   ]
  },
  {
   "cell_type": "code",
   "execution_count": 1,
   "metadata": {
    "collapsed": false,
    "scrolled": false
   },
   "outputs": [],
   "source": [
    "#Test\n",
    "import requests\n",
    "import pickle\n",
    "import datetime\n",
    "\n",
    "from bs4 import BeautifulSoup\n",
    "from setn_parser import get_category_urls, parser_page\n",
    "\n",
    "with open('target.pickle', 'rb') as f:\n",
    "    data = pickle.load(f)\n",
    "    \n",
    "with open('resps.pickle', 'rb') as f:\n",
    "    resps = pickle.load(f)\n",
    "    \n",
    "\n",
    "def test_requests(url):\n",
    "    return resps[url]\n",
    "\n",
    "def find_start_url(category_url, min_step = 3, init = 32):\n",
    "    step = init; now = 1+int(init/2)\n",
    "    page_url = category_url+'&p='+str(now)\n",
    "    while True:\n",
    "        soup = BeautifulSoup(requests.get(page_url).text,'html.parser')\n",
    "        num_urls = len(soup.select(\"ol a\"))\n",
    "        if step/2 <= min_step:\n",
    "            break\n",
    "        if num_urls==0:\n",
    "            step = int(step/2)\n",
    "            now -= step           \n",
    "        else:\n",
    "            step = int(step/2) if step != init else init\n",
    "            now += step \n",
    "        page_url = category_url+'&p='+str(now)\n",
    "    \n",
    "    ans = now-step-2 if num_urls==0 else now-2\n",
    "    return 1 if ans < 1 else ans\n",
    "\n",
    "\n",
    "def test_parser_page(group_id, N=40):\n",
    "    old_req = requests.get\n",
    "    requests.get = test_requests\n",
    "    \n",
    "    result = {}; target = {}\n",
    "    for gid in group_id:\n",
    "        result[gid] = [parser_page(page_url) for page_url in data[0][gid][-N:]]\n",
    "        target[gid] = data[1][gid][-N:]\n",
    "    \n",
    "    requests.get = old_req\n",
    "    assert result == target, \"...\"\n",
    "    \n",
    "\n",
    "def test_get_category_urls(group_id, N=40):\n",
    "    old_req = requests.get\n",
    "    requests.get = test_requests\n",
    "    \n",
    "    result = {}; target = {}\n",
    "    for gid in group_id:\n",
    "        url = 'http://www.setn.com/ViewAll.aspx?PageGroupID='+str(gid)\n",
    "        result[gid] = get_category_urls(url,find_start_url(url))[-N:]\n",
    "        target[gid] = data[0][gid][-N:]\n",
    "    requests.get = old_req\n",
    "\n",
    "    assert result == target, \"...\"\n",
    "\n",
    "test_parser_page([4,5,6,7,8],100)\n",
    "test_get_category_urls([4,5,6,7,8],10)"
   ]
  },
  {
   "cell_type": "code",
   "execution_count": null,
   "metadata": {
    "collapsed": true
   },
   "outputs": [],
   "source": []
  }
 ],
 "metadata": {
  "kernelspec": {
   "display_name": "Python 3",
   "language": "python",
   "name": "python3"
  },
  "language_info": {
   "codemirror_mode": {
    "name": "ipython",
    "version": 3
   },
   "file_extension": ".py",
   "mimetype": "text/x-python",
   "name": "python",
   "nbconvert_exporter": "python",
   "pygments_lexer": "ipython3",
   "version": "3.4.3"
  }
 },
 "nbformat": 4,
 "nbformat_minor": 0
}
